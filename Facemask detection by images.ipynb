{
 "cells": [
  {
   "cell_type": "code",
   "execution_count": 1,
   "id": "ce9f32c0",
   "metadata": {},
   "outputs": [],
   "source": [
    "from tensorflow.keras.applications.mobilenet_v2 import preprocess_input\n",
    "from tensorflow.keras.preprocessing.image import img_to_array\n",
    "from tensorflow.keras.models import load_model\n",
    "import numpy as np\n",
    "import cv2\n",
    "import os"
   ]
  },
  {
   "cell_type": "code",
   "execution_count": 2,
   "id": "6ce7a467",
   "metadata": {},
   "outputs": [],
   "source": [
    "prototxtPath=os.path.sep.join([r'C:\\Users\\lenovo\\Desktop\\Deep Learning Project','deploy.prototxt'])\n",
    "weightsPath=os.path.sep.join([r'C:\\Users\\lenovo\\Desktop\\Deep Learning Project','res10_300x300_ssd_iter_140000.caffemodel'])\n"
   ]
  },
  {
   "cell_type": "code",
   "execution_count": 3,
   "id": "6f91666a",
   "metadata": {},
   "outputs": [
    {
     "data": {
      "text/plain": [
       "'C:\\\\Users\\\\lenovo\\\\Desktop\\\\Deep Learning Project\\\\deploy.prototxt'"
      ]
     },
     "execution_count": 3,
     "metadata": {},
     "output_type": "execute_result"
    }
   ],
   "source": [
    "prototxtPath"
   ]
  },
  {
   "cell_type": "code",
   "execution_count": 4,
   "id": "9df424e5",
   "metadata": {},
   "outputs": [
    {
     "data": {
      "text/plain": [
       "'C:\\\\Users\\\\lenovo\\\\Desktop\\\\Deep Learning Project\\\\res10_300x300_ssd_iter_140000.caffemodel'"
      ]
     },
     "execution_count": 4,
     "metadata": {},
     "output_type": "execute_result"
    }
   ],
   "source": [
    "weightsPath"
   ]
  },
  {
   "cell_type": "code",
   "execution_count": 5,
   "id": "ab546f28",
   "metadata": {},
   "outputs": [],
   "source": [
    "net=cv2.dnn.readNet(prototxtPath,weightsPath)"
   ]
  },
  {
   "cell_type": "code",
   "execution_count": 6,
   "id": "b8edf58e",
   "metadata": {},
   "outputs": [],
   "source": [
    "model=load_model(r'C:\\Users\\lenovo\\Desktop\\Deep Learning Project\\mobilenet_v2.model')"
   ]
  },
  {
   "cell_type": "code",
   "execution_count": 10,
   "id": "2c034339",
   "metadata": {},
   "outputs": [],
   "source": [
    "image=cv2.imread(r'C:\\Users\\lenovo\\Desktop\\Deep Learning Project\\imagee.jpeg')"
   ]
  },
  {
   "cell_type": "code",
   "execution_count": 11,
   "id": "e0ad536f",
   "metadata": {},
   "outputs": [
    {
     "data": {
      "text/plain": [
       "array([[[ 18,  18,  12],\n",
       "        [ 16,  16,  10],\n",
       "        [ 12,  13,   4],\n",
       "        ...,\n",
       "        [ 49,  54,  45],\n",
       "        [ 43,  48,  39],\n",
       "        [ 40,  45,  36]],\n",
       "\n",
       "       [[ 18,  18,  12],\n",
       "        [ 16,  16,  10],\n",
       "        [ 12,  13,   4],\n",
       "        ...,\n",
       "        [ 51,  54,  45],\n",
       "        [ 44,  50,  39],\n",
       "        [ 44,  47,  38]],\n",
       "\n",
       "       [[ 18,  18,  12],\n",
       "        [ 16,  16,  10],\n",
       "        [ 12,  13,   4],\n",
       "        ...,\n",
       "        [ 52,  53,  43],\n",
       "        [ 48,  52,  40],\n",
       "        [ 48,  49,  39]],\n",
       "\n",
       "       ...,\n",
       "\n",
       "       [[ 90, 157, 150],\n",
       "        [ 90, 157, 148],\n",
       "        [ 89, 158, 148],\n",
       "        ...,\n",
       "        [189, 202, 228],\n",
       "        [190, 203, 229],\n",
       "        [190, 203, 229]],\n",
       "\n",
       "       [[ 89, 155, 150],\n",
       "        [ 89, 156, 149],\n",
       "        [ 88, 156, 149],\n",
       "        ...,\n",
       "        [187, 200, 226],\n",
       "        [188, 201, 227],\n",
       "        [188, 201, 227]],\n",
       "\n",
       "       [[ 88, 154, 149],\n",
       "        [ 88, 154, 149],\n",
       "        [ 88, 156, 149],\n",
       "        ...,\n",
       "        [186, 199, 225],\n",
       "        [186, 199, 225],\n",
       "        [186, 199, 225]]], dtype=uint8)"
      ]
     },
     "execution_count": 11,
     "metadata": {},
     "output_type": "execute_result"
    }
   ],
   "source": [
    "image"
   ]
  },
  {
   "cell_type": "code",
   "execution_count": 12,
   "id": "47b75c04",
   "metadata": {},
   "outputs": [],
   "source": [
    "(h,w)=image.shape[:2]"
   ]
  },
  {
   "cell_type": "code",
   "execution_count": 13,
   "id": "c462702b",
   "metadata": {},
   "outputs": [
    {
     "data": {
      "text/plain": [
       "(182, 277)"
      ]
     },
     "execution_count": 13,
     "metadata": {},
     "output_type": "execute_result"
    }
   ],
   "source": [
    "(h,w)"
   ]
  },
  {
   "cell_type": "code",
   "execution_count": 14,
   "id": "ee2c445e",
   "metadata": {},
   "outputs": [],
   "source": [
    "blob=cv2.dnn.blobFromImage(image,1.0,(300,300),(104.0,177.0,123.0))"
   ]
  },
  {
   "cell_type": "code",
   "execution_count": 15,
   "id": "77a2e09c",
   "metadata": {},
   "outputs": [
    {
     "data": {
      "text/plain": [
       "array([[[[ -86.,  -88.,  -91., ...,  -56.,  -61.,  -64.],\n",
       "         [ -86.,  -88.,  -91., ...,  -56.,  -61.,  -62.],\n",
       "         [ -86.,  -88.,  -91., ...,  -54.,  -60.,  -60.],\n",
       "         ...,\n",
       "         [ -15.,  -15.,  -16., ...,   83.,   84.,   84.],\n",
       "         [ -16.,  -16.,  -16., ...,   82.,   83.,   83.],\n",
       "         [ -16.,  -16.,  -16., ...,   82.,   82.,   82.]],\n",
       "\n",
       "        [[-159., -161., -164., ..., -124., -129., -132.],\n",
       "         [-159., -161., -163., ..., -124., -129., -131.],\n",
       "         [-159., -161., -164., ..., -124., -127., -130.],\n",
       "         ...,\n",
       "         [ -22.,  -21.,  -21., ...,   23.,   24.,   24.],\n",
       "         [ -23.,  -22.,  -21., ...,   22.,   23.,   23.],\n",
       "         [ -23.,  -23.,  -22., ...,   22.,   22.,   22.]],\n",
       "\n",
       "        [[-111., -113., -118., ...,  -79.,  -84.,  -87.],\n",
       "         [-111., -113., -118., ...,  -79.,  -84.,  -86.],\n",
       "         [-111., -113., -118., ...,  -79.,  -84.,  -85.],\n",
       "         ...,\n",
       "         [  27.,   26.,   26., ...,  103.,  104.,  104.],\n",
       "         [  26.,   26.,   26., ...,  102.,  103.,  103.],\n",
       "         [  26.,   26.,   26., ...,  102.,  102.,  102.]]]], dtype=float32)"
      ]
     },
     "execution_count": 15,
     "metadata": {},
     "output_type": "execute_result"
    }
   ],
   "source": [
    "blob"
   ]
  },
  {
   "cell_type": "code",
   "execution_count": 16,
   "id": "81d9d68b",
   "metadata": {},
   "outputs": [
    {
     "data": {
      "text/plain": [
       "(1, 3, 300, 300)"
      ]
     },
     "execution_count": 16,
     "metadata": {},
     "output_type": "execute_result"
    }
   ],
   "source": [
    "blob.shape"
   ]
  },
  {
   "cell_type": "code",
   "execution_count": 17,
   "id": "85f6bf22",
   "metadata": {},
   "outputs": [],
   "source": [
    "net.setInput(blob)\n",
    "detections=net.forward()"
   ]
  },
  {
   "cell_type": "code",
   "execution_count": 18,
   "id": "a64808f0",
   "metadata": {},
   "outputs": [
    {
     "data": {
      "text/plain": [
       "array([[[[0.        , 1.        , 0.9567166 , ..., 0.16750354,\n",
       "          0.598803  , 0.5967531 ],\n",
       "         [0.        , 1.        , 0.21466264, ..., 0.27122858,\n",
       "          0.37934142, 0.539935  ],\n",
       "         [0.        , 1.        , 0.128831  , ..., 4.002771  ,\n",
       "          4.83937   , 4.9860063 ],\n",
       "         ...,\n",
       "         [0.        , 0.        , 0.        , ..., 0.        ,\n",
       "          0.        , 0.        ],\n",
       "         [0.        , 0.        , 0.        , ..., 0.        ,\n",
       "          0.        , 0.        ],\n",
       "         [0.        , 0.        , 0.        , ..., 0.        ,\n",
       "          0.        , 0.        ]]]], dtype=float32)"
      ]
     },
     "execution_count": 18,
     "metadata": {},
     "output_type": "execute_result"
    }
   ],
   "source": [
    "detections"
   ]
  },
  {
   "cell_type": "code",
   "execution_count": 19,
   "id": "4d5bc6ab",
   "metadata": {},
   "outputs": [
    {
     "name": "stdout",
     "output_type": "stream",
     "text": [
      "1/1 [==============================] - 2s 2s/step\n"
     ]
    }
   ],
   "source": [
    "#loop over the detections\n",
    "for i in range(0,detections.shape[2]):\n",
    "    confidence=detections[0,0,i,2]\n",
    "    \n",
    "    \n",
    "    if confidence>0.5:\n",
    "        #we need the X,Y coordinates\n",
    "        box=detections[0,0,i,3:7]*np.array([w,h,w,h])\n",
    "        (startX,startY,endX,endY)=box.astype('int')\n",
    "        \n",
    "        #ensure the bounding boxes fall within the dimensions of the frame\n",
    "        (startX,startY)=(max(0,startX),max(0,startY))\n",
    "        (endX,endY)=(min(w-1,endX), min(h-1,endY))\n",
    "        \n",
    "        \n",
    "        #extract the face ROI, convert it from BGR to RGB channel, resize it to 224,224 and preprocess it\n",
    "        face=image[startY:endY, startX:endX]\n",
    "        face=cv2.cvtColor(face,cv2.COLOR_BGR2RGB)\n",
    "        face=cv2.resize(face,(224,224))\n",
    "        face=img_to_array(face)\n",
    "        face=preprocess_input(face)\n",
    "        face=np.expand_dims(face,axis=0)\n",
    "        \n",
    "        (mask,withoutMask)=model.predict(face)[0]\n",
    "        \n",
    "        #determine the class label and color we will use to draw the bounding box and text\n",
    "        label='Mask' if mask>withoutMask else 'No Mask'\n",
    "        color=(0,255,0) if label=='Mask' else (0,0,255)\n",
    "        \n",
    "        #include the probability in the label\n",
    "        label=\"{}: {:.2f}%\".format(label,max(mask,withoutMask)*100)\n",
    "        \n",
    "        #display the label and bounding boxes\n",
    "        cv2.putText(image,label,(startX,startY-10),cv2.FONT_HERSHEY_SIMPLEX,0.45,color,2)\n",
    "        cv2.rectangle(image,(startX,startY),(endX,endY),color,2)\n",
    "        \n",
    "        \n",
    "        \n",
    "cv2.imshow(\"OutPut\",image)\n",
    "cv2.waitKey(0)\n",
    "cv2.destroyAllWindows()"
   ]
  },
  {
   "cell_type": "code",
   "execution_count": null,
   "id": "314104d3",
   "metadata": {},
   "outputs": [],
   "source": []
  }
 ],
 "metadata": {
  "kernelspec": {
   "display_name": "Python 3 (ipykernel)",
   "language": "python",
   "name": "python3"
  },
  "language_info": {
   "codemirror_mode": {
    "name": "ipython",
    "version": 3
   },
   "file_extension": ".py",
   "mimetype": "text/x-python",
   "name": "python",
   "nbconvert_exporter": "python",
   "pygments_lexer": "ipython3",
   "version": "3.10.9"
  }
 },
 "nbformat": 4,
 "nbformat_minor": 5
}
